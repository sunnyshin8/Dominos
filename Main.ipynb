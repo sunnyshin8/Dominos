{
 "cells": [
  {
   "cell_type": "code",
   "execution_count": 12,
   "metadata": {},
   "outputs": [],
   "source": [
    "#creating charbot using python speech recognition library and text to speech library\n",
    "import speech_recognition as sr\n",
    "import pyttsx3\n",
    "import pywhatkit\n",
    "import datetime\n",
    "import wikipedia\n",
    "import pyjokes\n",
    "import os\n",
    "import webbrowser\n",
    "import smtplib\n"
   ]
  },
  {
   "cell_type": "code",
   "execution_count": 13,
   "metadata": {},
   "outputs": [],
   "source": [
    "#initializing the speech recognition\n",
    "listener = sr.Recognizer()\n",
    "engine = pyttsx3.init()"
   ]
  },
  {
   "cell_type": "code",
   "execution_count": 14,
   "metadata": {},
   "outputs": [],
   "source": [
    "#setting the voice\n",
    "voices = engine.getProperty('voices')\n",
    "engine.setProperty('voice', voices[1].id)\n",
    "#fetching the voice\n",
    "def talk(text):\n",
    "    engine.say(text)\n",
    "    engine.runAndWait()"
   ]
  },
  {
   "cell_type": "code",
   "execution_count": 15,
   "metadata": {},
   "outputs": [],
   "source": [
    "#ben10 voice\n",
    "def ben10(text):\n",
    "    engine.setProperty('voice', voices[0].id)\n",
    "    engine.say(text)\n",
    "    engine.runAndWait()"
   ]
  },
  {
   "cell_type": "code",
   "execution_count": 16,
   "metadata": {},
   "outputs": [],
   "source": [
    "#listening the voice\n",
    "def take_command():\n",
    "    try:\n",
    "        with sr.Microphone() as source:\n",
    "            print('listening...')\n",
    "            voice = listener.listen(source)\n",
    "            command = listener.recognize_google(voice)\n",
    "            command = command.lower()\n",
    "            if 'charbot' in command:\n",
    "                command = command.replace('charbot', '')\n",
    "                print(command)\n",
    "    except:\n",
    "        pass\n",
    "    return command"
   ]
  },
  {
   "cell_type": "code",
   "execution_count": 17,
   "metadata": {},
   "outputs": [],
   "source": [
    "#responding to the voice\n",
    "def run_charbot():\n",
    "    command = take_command()\n",
    "    print(command)\n",
    "    if 'play' in command:\n",
    "        song = command.replace('play', '')\n",
    "        talk('playing' + song)\n",
    "        pywhatkit.playonyt(song)\n",
    "    elif 'time' in command:\n",
    "        time = datetime.datetime.now().strftime('%I:%M %p')\n",
    "        talk('Current time is ' + time)\n",
    "    elif 'who is' in command:\n",
    "        person = command.replace('who is', '')\n",
    "        info = wikipedia.summary(person, 1)\n",
    "        print(info)\n",
    "        talk(info)\n",
    "    elif 'joke' in command:\n",
    "        talk(pyjokes.get_joke())\n",
    "    elif 'open' in command:\n",
    "        website = command.replace('open', '')\n",
    "        webbrowser.open(website)\n",
    "    elif 'ben10' in command:\n",
    "        ben10('I am ben10')\n",
    "    elif 'stop' in command:\n",
    "        talk('Goodbye')\n",
    "        exit()\n",
    "    else:\n",
    "        talk('Please say the command again.')"
   ]
  },
  {
   "cell_type": "code",
   "execution_count": 27,
   "metadata": {},
   "outputs": [
    {
     "ename": "UnboundLocalError",
     "evalue": "local variable 'command' referenced before assignment",
     "output_type": "error",
     "traceback": [
      "\u001b[1;31m---------------------------------------------------------------------------\u001b[0m",
      "\u001b[1;31mUnboundLocalError\u001b[0m                         Traceback (most recent call last)",
      "Cell \u001b[1;32mIn[27], line 3\u001b[0m\n\u001b[0;32m      1\u001b[0m \u001b[38;5;66;03m#running the charbot\u001b[39;00m\n\u001b[0;32m      2\u001b[0m \u001b[38;5;28;01mwhile\u001b[39;00m \u001b[38;5;28;01mTrue\u001b[39;00m:\n\u001b[1;32m----> 3\u001b[0m     \u001b[43mrun_charbot\u001b[49m\u001b[43m(\u001b[49m\u001b[43m)\u001b[49m\n\u001b[0;32m      4\u001b[0m     \u001b[38;5;66;03m#fetch gpt-3 api for more functionality\u001b[39;00m\n\u001b[0;32m      5\u001b[0m     \u001b[38;5;66;03m#fetching the weather api\u001b[39;00m\n\u001b[0;32m      6\u001b[0m     \u001b[38;5;66;03m#fetching the news api\u001b[39;00m\n\u001b[0;32m      7\u001b[0m     \u001b[38;5;66;03m#fetching the stock api\u001b[39;00m\n\u001b[0;32m      8\u001b[0m     \u001b[38;5;66;03m#fetching the location api\u001b[39;00m\n\u001b[0;32m      9\u001b[0m     \u001b[38;5;66;03m#fetching the movie api\u001b[39;00m\n\u001b[0;32m     10\u001b[0m     api_key \u001b[38;5;241m=\u001b[39m \u001b[38;5;124m\"\u001b[39m\u001b[38;5;124mYOUR API KEY\u001b[39m\u001b[38;5;124m\"\u001b[39m\n",
      "Cell \u001b[1;32mIn[17], line 3\u001b[0m, in \u001b[0;36mrun_charbot\u001b[1;34m()\u001b[0m\n\u001b[0;32m      2\u001b[0m \u001b[38;5;28;01mdef\u001b[39;00m \u001b[38;5;21mrun_charbot\u001b[39m():\n\u001b[1;32m----> 3\u001b[0m     command \u001b[38;5;241m=\u001b[39m \u001b[43mtake_command\u001b[49m\u001b[43m(\u001b[49m\u001b[43m)\u001b[49m\n\u001b[0;32m      4\u001b[0m     \u001b[38;5;28mprint\u001b[39m(command)\n\u001b[0;32m      5\u001b[0m     \u001b[38;5;28;01mif\u001b[39;00m \u001b[38;5;124m'\u001b[39m\u001b[38;5;124mplay\u001b[39m\u001b[38;5;124m'\u001b[39m \u001b[38;5;129;01min\u001b[39;00m command:\n",
      "Cell \u001b[1;32mIn[16], line 14\u001b[0m, in \u001b[0;36mtake_command\u001b[1;34m()\u001b[0m\n\u001b[0;32m     12\u001b[0m \u001b[38;5;28;01mexcept\u001b[39;00m:\n\u001b[0;32m     13\u001b[0m     \u001b[38;5;28;01mpass\u001b[39;00m\n\u001b[1;32m---> 14\u001b[0m \u001b[38;5;28;01mreturn\u001b[39;00m \u001b[43mcommand\u001b[49m\n",
      "\u001b[1;31mUnboundLocalError\u001b[0m: local variable 'command' referenced before assignment"
     ]
    }
   ],
   "source": [
    "#running the charbot\n",
    "while True:\n",
    "    run_charbot()\n",
    "    #fetch gpt-3 api for more functionality\n",
    "    #fetching the weather api\n",
    "    #fetching the news api\n",
    "    #fetching the stock api\n",
    "    #fetching the location api\n",
    "    #fetching the movie api\n",
    "    api_key = \"YOUR API KEY\"\n",
    "    base_url = \"http://api.openweathermap.org/data/2.5/weather?\"\n",
    "    city_name = input(\"Enter city name : \")\n",
    "    complete_url = base_url + \"appid=\" + api_key + \"&q=\" + city_name\n",
    "    response = requests.get(complete_url)\n",
    "    x = response.json()\n",
    "    if x[\"cod\"] != \"404\":\n",
    "        y = x[\"main\"]\n",
    "        current_temperature = y[\"temp\"]\n",
    "        current_pressure = y[\"pressure\"]\n",
    "        current_humidiy = y[\"humidity\"]\n",
    "        z = x[\"weather\"]\n",
    "        weather_description = z[0][\"description\"]\n",
    "        print(\" Temperature (in kelvin unit) = \" +\n",
    "              str(current_temperature) +\n",
    "              \"\\n atmospheric pressure (in hPa unit) = \" +\n",
    "              str(current_pressure) +\n",
    "              \"\\n humidity (in percentage) = \" +\n",
    "              str(current_humidiy) +\n",
    "              \"\\n description = \" +\n",
    "              str(weather_description))\n",
    "    else:\n",
    "        print(\" City Not Found \")\n",
    "    break\n",
    "    #fetching the news api\n",
    "    #   \n",
    "    "
   ]
  },
  {
   "cell_type": "code",
   "execution_count": null,
   "metadata": {},
   "outputs": [],
   "source": [
    "\n",
    "#all the best to team dominos"
   ]
  }
 ],
 "metadata": {
  "kernelspec": {
   "display_name": "venv",
   "language": "python",
   "name": "python3"
  },
  "language_info": {
   "codemirror_mode": {
    "name": "ipython",
    "version": 3
   },
   "file_extension": ".py",
   "mimetype": "text/x-python",
   "name": "python",
   "nbconvert_exporter": "python",
   "pygments_lexer": "ipython3",
   "version": "3.10.11"
  }
 },
 "nbformat": 4,
 "nbformat_minor": 2
}
